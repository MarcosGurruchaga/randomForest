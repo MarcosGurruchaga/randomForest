{
  "cells": [
    {
      "cell_type": "markdown",
      "metadata": {},
      "source": [
        "# 🌲 Max Features Simple: 2 vs 3 Características\n",
        "\n",
        "Este notebook compara de manera muy simple Random Forest con **2 características** vs **3 características** usando un dataset con 5 features.\n",
        "\n",
        "## ¿Qué aprenderás?\n",
        "- Cómo max_features afecta la selección de características\n",
        "- Diferencia entre usar 2 vs 3 características por división\n",
        "- Por qué menos características = más diversidad\n"
      ]
    },
    {
      "cell_type": "markdown",
      "metadata": {},
      "source": [
        "## 📚 ¿Qué es Max Features?\n",
        "\n",
        "**Max Features** controla cuántas características usa cada árbol al hacer divisiones.\n",
        "\n",
        "### 🎯 En este ejemplo:\n",
        "- **Dataset**: 5 características (Feature_1, Feature_2, Feature_3, Feature_4, Feature_5)\n",
        "- **Comparación**: 2 características vs 3 características por división\n",
        "- **Objetivo**: Ver cómo afecta la diversidad de los árboles\n"
      ]
    },
    {
      "cell_type": "code",
      "execution_count": 8,
      "metadata": {},
      "outputs": [
        {
          "name": "stdout",
          "output_type": "stream",
          "text": [
            "✅ Librerías importadas correctamente\n"
          ]
        }
      ],
      "source": [
        "# Importar las librerías necesarias\n",
        "import numpy as np\n",
        "import matplotlib.pyplot as plt\n",
        "from sklearn.ensemble import RandomForestClassifier\n",
        "from sklearn.datasets import make_classification\n",
        "from sklearn.model_selection import train_test_split\n",
        "from sklearn.metrics import accuracy_score\n",
        "\n",
        "print(\"✅ Librerías importadas correctamente\")\n"
      ]
    },
    {
      "cell_type": "markdown",
      "metadata": {},
      "source": [
        "## 🎲 Ejemplo Visual: 2 vs 3 Características\n",
        "\n",
        "Vamos a ver cómo se seleccionan las características en cada caso:\n"
      ]
    },
    {
      "cell_type": "code",
      "execution_count": 9,
      "metadata": {},
      "outputs": [
        {
          "name": "stdout",
          "output_type": "stream",
          "text": [
            "📊 DATASET ORIGINAL\n",
            "==============================\n",
            "Características disponibles: ['Feature_1', 'Feature_2', 'Feature_3', 'Feature_4', 'Feature_5']\n",
            "Total de características: 5\n",
            "\n",
            "🎯 COMPARACIÓN:\n",
            "- max_features = 2: Usa 2 características por división\n",
            "- max_features = 3: Usa 3 características por división\n",
            "\n",
            "💡 Hipótesis:\n",
            "- Con 2 características: Más diversidad entre árboles\n",
            "- Con 3 características: Menos diversidad, más características por árbol\n"
          ]
        }
      ],
      "source": [
        "# Dataset simple con 5 características\n",
        "print(\"📊 DATASET ORIGINAL\")\n",
        "print(\"=\" * 30)\n",
        "\n",
        "caracteristicas = ['Feature_1', 'Feature_2', 'Feature_3', 'Feature_4', 'Feature_5']\n",
        "print(f\"Características disponibles: {caracteristicas}\")\n",
        "print(f\"Total de características: {len(caracteristicas)}\")\n",
        "print()\n",
        "\n",
        "print(\"🎯 COMPARACIÓN:\")\n",
        "print(\"- max_features = 2: Usa 2 características por división\")\n",
        "print(\"- max_features = 3: Usa 3 características por división\")\n",
        "print()\n",
        "print(\"💡 Hipótesis:\")\n",
        "print(\"- Con 2 características: Más diversidad entre árboles\")\n",
        "print(\"- Con 3 características: Menos diversidad, más características por árbol\")\n"
      ]
    },
    {
      "cell_type": "code",
      "execution_count": 10,
      "metadata": {},
      "outputs": [
        {
          "name": "stdout",
          "output_type": "stream",
          "text": [
            "🎲 SIMULACIÓN DE SELECCIÓN DE CARACTERÍSTICAS\n",
            "==================================================\n",
            "\n",
            "📊 max_features = 2 características:\n",
            "----------------------------------------\n",
            "  División 1: ['Feature_2', 'Feature_5']\n",
            "  División 2: ['Feature_2', 'Feature_4']\n",
            "  División 3: ['Feature_1', 'Feature_2']\n",
            "\n",
            "📊 max_features = 3 características:\n",
            "----------------------------------------\n",
            "  División 1: ['Feature_1', 'Feature_2', 'Feature_3']\n",
            "  División 2: ['Feature_1', 'Feature_3', 'Feature_4']\n",
            "  División 3: ['Feature_1', 'Feature_3', 'Feature_5']\n",
            "\n",
            "💡 Observaciones:\n",
            "- Con 2 características: Cada división usa solo 2 de las 5 disponibles\n",
            "- Con 3 características: Cada división usa 3 de las 5 disponibles\n",
            "- Menos características = más diversidad entre árboles\n",
            "- Más características = árboles más similares\n"
          ]
        }
      ],
      "source": [
        "# Simular selección de características\n",
        "print(\"🎲 SIMULACIÓN DE SELECCIÓN DE CARACTERÍSTICAS\")\n",
        "print(\"=\" * 50)\n",
        "\n",
        "np.random.seed(42)  # Para reproducibilidad\n",
        "\n",
        "# Simular 3 divisiones para cada caso\n",
        "for max_feat in [2, 3]:\n",
        "    print(f\"\\n📊 max_features = {max_feat} características:\")\n",
        "    print(\"-\" * 40)\n",
        "    \n",
        "    for division in range(3):\n",
        "        # Seleccionar características aleatoriamente\n",
        "        indices_seleccionados = np.random.choice(5, size=max_feat, replace=False)\n",
        "        caracteristicas_seleccionadas = [caracteristicas[i] for i in sorted(indices_seleccionados)]\n",
        "        print(f\"  División {division+1}: {caracteristicas_seleccionadas}\")\n",
        "\n",
        "print(\"\\n💡 Observaciones:\")\n",
        "print(\"- Con 2 características: Cada división usa solo 2 de las 5 disponibles\")\n",
        "print(\"- Con 3 características: Cada división usa 3 de las 5 disponibles\")\n",
        "print(\"- Menos características = más diversidad entre árboles\")\n",
        "print(\"- Más características = árboles más similares\")\n"
      ]
    },
    {
      "cell_type": "markdown",
      "metadata": {},
      "source": [
        "## 🌳 Comparación en Random Forest Real\n",
        "\n",
        "Ahora vamos a comparar los dos modelos:\n"
      ]
    },
    {
      "cell_type": "code",
      "execution_count": 11,
      "metadata": {},
      "outputs": [
        {
          "name": "stdout",
          "output_type": "stream",
          "text": [
            "📊 GENERANDO DATASET\n",
            "==============================\n",
            "Dataset generado:\n",
            "- Muestras: 200\n",
            "- Características: 5\n",
            "- Clases: 2\n",
            "\n",
            "División:\n",
            "- Entrenamiento: 140 muestras\n",
            "- Prueba: 60 muestras\n"
          ]
        }
      ],
      "source": [
        "# Generar dataset con 5 características\n",
        "print(\"📊 GENERANDO DATASET\")\n",
        "print(\"=\" * 30)\n",
        "\n",
        "X, y = make_classification(\n",
        "    n_samples=200,  # 200 muestras\n",
        "    n_features=5,   # 5 características\n",
        "    n_classes=2,    # 2 clases\n",
        "    random_state=42\n",
        ")\n",
        "\n",
        "print(f\"Dataset generado:\")\n",
        "print(f\"- Muestras: {X.shape[0]}\")\n",
        "print(f\"- Características: {X.shape[1]}\")\n",
        "print(f\"- Clases: {len(np.unique(y))}\")\n",
        "print()\n",
        "\n",
        "# Dividir en entrenamiento y prueba\n",
        "X_train, X_test, y_train, y_test = train_test_split(X, y, test_size=0.3, random_state=42)\n",
        "print(f\"División:\")\n",
        "print(f\"- Entrenamiento: {X_train.shape[0]} muestras\")\n",
        "print(f\"- Prueba: {X_test.shape[0]} muestras\")\n"
      ]
    },
    {
      "cell_type": "code",
      "execution_count": 12,
      "metadata": {},
      "outputs": [
        {
          "name": "stdout",
          "output_type": "stream",
          "text": [
            "🌲 COMPARANDO RANDOM FOREST: 2 vs 3 CARACTERÍSTICAS\n",
            "============================================================\n",
            "🔧 Entrenando con max_features = 2...\n",
            "   ✅ Accuracy: 0.8667\n",
            "\n",
            "🔧 Entrenando con max_features = 3...\n",
            "   ✅ Accuracy: 0.8500\n",
            "\n",
            "📊 COMPARACIÓN:\n",
            "2 características: 0.8667\n",
            "3 características: 0.8500\n",
            "Diferencia: 0.0167\n"
          ]
        }
      ],
      "source": [
        "# Comparar Random Forest: 2 vs 3 características\n",
        "print(\"🌲 COMPARANDO RANDOM FOREST: 2 vs 3 CARACTERÍSTICAS\")\n",
        "print(\"=\" * 60)\n",
        "\n",
        "# Entrenar modelo con 2 características\n",
        "print(\"🔧 Entrenando con max_features = 2...\")\n",
        "rf_2 = RandomForestClassifier(\n",
        "    n_estimators=10,  # 10 árboles\n",
        "    max_features=2,   # 2 características\n",
        "    random_state=42\n",
        ")\n",
        "rf_2.fit(X_train, y_train)\n",
        "y_pred_2 = rf_2.predict(X_test)\n",
        "acc_2 = accuracy_score(y_test, y_pred_2)\n",
        "print(f\"   ✅ Accuracy: {acc_2:.4f}\")\n",
        "\n",
        "print()\n",
        "\n",
        "# Entrenar modelo con 3 características\n",
        "print(\"🔧 Entrenando con max_features = 3...\")\n",
        "rf_3 = RandomForestClassifier(\n",
        "    n_estimators=10,  # 10 árboles\n",
        "    max_features=3,   # 3 características\n",
        "    random_state=42\n",
        ")\n",
        "rf_3.fit(X_train, y_train)\n",
        "y_pred_3 = rf_3.predict(X_test)\n",
        "acc_3 = accuracy_score(y_test, y_pred_3)\n",
        "print(f\"   ✅ Accuracy: {acc_3:.4f}\")\n",
        "\n",
        "print()\n",
        "print(\"📊 COMPARACIÓN:\")\n",
        "print(f\"2 características: {acc_2:.4f}\")\n",
        "print(f\"3 características: {acc_3:.4f}\")\n",
        "print(f\"Diferencia: {abs(acc_2 - acc_3):.4f}\")\n"
      ]
    },
    {
      "cell_type": "markdown",
      "metadata": {},
      "source": [
        "## 🔍 Análisis de Diversidad\n",
        "\n",
        "Vamos a ver cómo afecta la diversidad de los árboles:\n"
      ]
    },
    {
      "cell_type": "code",
      "execution_count": 13,
      "metadata": {},
      "outputs": [
        {
          "name": "stdout",
          "output_type": "stream",
          "text": [
            "🔍 ANÁLISIS DE DIVERSIDAD DE ÁRBOLES\n",
            "==================================================\n",
            "Modelo con 2 características:\n",
            "  Nodos: 28.2 ± 6.0\n",
            "  Hojas: 14.6 ± 3.0\n",
            "\n",
            "Modelo con 3 características:\n",
            "  Nodos: 27.4 ± 7.7\n",
            "  Hojas: 14.2 ± 3.9\n"
          ]
        },
        {
          "data": {
            "image/png": "[encoded data removed]",
            "text/plain": [
              "<Figure size 1200x400 with 2 Axes>"
            ]
          },
          "metadata": {},
          "output_type": "display_data"
        },
        {
          "name": "stdout",
          "output_type": "stream",
          "text": [
            "\n",
            "💡 Interpretación:\n",
            "- Con 2 características: Más diversidad entre árboles\n",
            "- Con 3 características: Menos diversidad, árboles más similares\n",
            "- La diversidad se mide por la variación en el número de nodos\n"
          ]
        }
      ],
      "source": [
        "# Analizar diversidad de los árboles\n",
        "print(\"🔍 ANÁLISIS DE DIVERSIDAD DE ÁRBOLES\")\n",
        "print(\"=\" * 50)\n",
        "\n",
        "# Analizar los primeros 5 árboles de cada modelo\n",
        "print(\"Modelo con 2 características:\")\n",
        "nodos_2 = [tree.tree_.node_count for tree in rf_2.estimators_[:5]]\n",
        "hojas_2 = [tree.tree_.n_leaves for tree in rf_2.estimators_[:5]]\n",
        "print(f\"  Nodos: {np.mean(nodos_2):.1f} ± {np.std(nodos_2):.1f}\")\n",
        "print(f\"  Hojas: {np.mean(hojas_2):.1f} ± {np.std(hojas_2):.1f}\")\n",
        "\n",
        "print()\n",
        "print(\"Modelo con 3 características:\")\n",
        "nodos_3 = [tree.tree_.node_count for tree in rf_3.estimators_[:5]]\n",
        "hojas_3 = [tree.tree_.n_leaves for tree in rf_3.estimators_[:5]]\n",
        "print(f\"  Nodos: {np.mean(nodos_3):.1f} ± {np.std(nodos_3):.1f}\")\n",
        "print(f\"  Hojas: {np.mean(hojas_3):.1f} ± {np.std(hojas_3):.1f}\")\n",
        "\n",
        "# Visualización simple\n",
        "plt.figure(figsize=(12, 4))\n",
        "\n",
        "# Gráfico 1: Accuracy\n",
        "plt.subplot(1, 2, 1)\n",
        "plt.bar(['2 características', '3 características'], [acc_2, acc_3], \n",
        "        color=['skyblue', 'lightcoral'], alpha=0.7)\n",
        "plt.title('Accuracy: 2 vs 3 Características')\n",
        "plt.ylabel('Accuracy')\n",
        "plt.grid(True, alpha=0.3)\n",
        "\n",
        "# Agregar valores en las barras\n",
        "plt.text(0, acc_2 + 0.01, f'{acc_2:.3f}', ha='center', va='bottom', fontweight='bold')\n",
        "plt.text(1, acc_3 + 0.01, f'{acc_3:.3f}', ha='center', va='bottom', fontweight='bold')\n",
        "\n",
        "# Gráfico 2: Diversidad (nodos)\n",
        "plt.subplot(1, 2, 2)\n",
        "plt.bar(['2 características', '3 características'], \n",
        "        [np.mean(nodos_2), np.mean(nodos_3)], \n",
        "        yerr=[np.std(nodos_2), np.std(nodos_3)],\n",
        "        color=['skyblue', 'lightcoral'], alpha=0.7, capsize=5)\n",
        "plt.title('Diversidad: Número de Nodos')\n",
        "plt.ylabel('Nodos Promedio')\n",
        "plt.grid(True, alpha=0.3)\n",
        "\n",
        "plt.tight_layout()\n",
        "plt.show()\n",
        "\n",
        "print(\"\\n💡 Interpretación:\")\n",
        "print(\"- Con 2 características: Más diversidad entre árboles\")\n",
        "print(\"- Con 3 características: Menos diversidad, árboles más similares\")\n",
        "print(\"- La diversidad se mide por la variación en el número de nodos\")\n"
      ]
    },
    {
      "cell_type": "markdown",
      "metadata": {},
      "source": [
        "## 🎯 Resumen Simple\n",
        "\n",
        "### ✅ **¿Qué aprendimos?**\n",
        "\n",
        "1. **Con 2 características**: \n",
        "   - Más diversidad entre árboles\n",
        "   - Cada árbol usa diferentes combinaciones de características\n",
        "   - Menos overfitting\n",
        "\n",
        "2. **Con 3 características**:\n",
        "   - Menos diversidad entre árboles\n",
        "   - Los árboles son más similares\n",
        "   - Más características por división\n",
        "\n",
        "### 💡 **Recomendación:**\n",
        "- **Usa 2 características** si quieres más diversidad y menos overfitting\n",
        "- **Usa 3 características** si quieres más estabilidad y rendimiento individual\n",
        "- **Experimenta** con tu dataset para encontrar el balance óptimo\n"
      ]
    },
    {
      "cell_type": "code",
      "execution_count": 14,
      "metadata": {},
      "outputs": [
        {
          "name": "stdout",
          "output_type": "stream",
          "text": [
            "🎉 ¡EJEMPLO COMPLETADO!\n",
            "==============================\n",
            "Has visto cómo max_features afecta Random Forest:\n",
            "• 2 características = más diversidad\n",
            "• 3 características = menos diversidad\n",
            "• La diversidad se mide por la variación en nodos\n",
            "\n",
            "¡Experimenta con tu propio dataset!\n"
          ]
        }
      ],
      "source": [
        "# ¡Ejemplo completado!\n",
        "print(\"🎉 ¡EJEMPLO COMPLETADO!\")\n",
        "print(\"=\" * 30)\n",
        "print(\"Has visto cómo max_features afecta Random Forest:\")\n",
        "print(\"• 2 características = más diversidad\")\n",
        "print(\"• 3 características = menos diversidad\")\n",
        "print(\"• La diversidad se mide por la variación en nodos\")\n",
        "print()\n",
        "print(\"¡Experimenta con tu propio dataset!\")\n"
      ]
    },
    {
      "cell_type": "code",
      "execution_count": null,
      "metadata": {},
      "outputs": [],
      "source": [
        "\n"
      ]
    },
    {
      "cell_type": "markdown",
      "metadata": {},
      "source": [
        "\n"
      ]
    },
    {
      "cell_type": "markdown",
      "metadata": {},
      "source": [
        "\n"
      ]
    },
    {
      "cell_type": "markdown",
      "metadata": {},
      "source": []
    }
  ],
  "metadata": {
    "kernelspec": {
      "display_name": "base",
      "language": "python",
      "name": "python3"
    },
    "language_info": {
      "codemirror_mode": {
        "name": "ipython",
        "version": 3
      },
      "file_extension": ".py",
      "mimetype": "text/x-python",
      "name": "python",
      "nbconvert_exporter": "python",
      "pygments_lexer": "ipython3",
      "version": "3.13.5"
    }
  },
  "nbformat": 4,
  "nbformat_minor": 2
}
