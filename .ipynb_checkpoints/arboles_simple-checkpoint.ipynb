{
  "cells": [
    {
      "cell_type": "markdown",
      "metadata": {},
      "source": [
        "# Comparación Simple: Árboles 2 vs 3 Características\n",
        "\n",
        "Este notebook muestra de forma simple cómo cambia la estructura de un árbol de decisión cuando usamos 2 características vs 3 características.\n",
        "\n",
        "## Objetivo\n",
        "- Ver la diferencia en estructura de nodos\n",
        "- Comparar complejidad visualmente\n",
        "- Entender el trade-off simplicidad vs precisión\n"
      ]
    },
    {
      "cell_type": "code",
      "execution_count": null,
      "metadata": {},
      "outputs": [],
      "source": [
        "# Importar librerías básicas\n",
        "import numpy as np\n",
        "import pandas as pd\n",
        "import matplotlib.pyplot as plt\n",
        "from sklearn.datasets import make_classification\n",
        "from sklearn.tree import DecisionTreeClassifier, plot_tree\n",
        "from sklearn.model_selection import train_test_split\n",
        "\n",
        "print(\"✅ Librerías importadas\")\n"
      ]
    },
    {
      "cell_type": "code",
      "execution_count": null,
      "metadata": {},
      "outputs": [],
      "source": [
        "# Crear dataset simple\n",
        "X, y = make_classification(\n",
        "    n_samples=200,    # Solo 200 muestras\n",
        "    n_features=4,     # 4 características disponibles\n",
        "    n_informative=3,  # 3 características útiles\n",
        "    n_redundant=1,    # 1 característica redundante\n",
        "    n_classes=2,      # Clasificación binaria\n",
        "    random_state=42\n",
        ")\n",
        "\n",
        "print(f\"Dataset creado: {X.shape[0]} muestras, {X.shape[1]} características\")\n",
        "print(f\"Clases: {np.bincount(y)}\")\n"
      ]
    },
    {
      "cell_type": "code",
      "execution_count": null,
      "metadata": {},
      "outputs": [],
      "source": [
        "# Preparar datos para comparación\n",
        "# Dataset con 2 características\n",
        "X_2 = X[:, :2]  # Solo las primeras 2 características\n",
        "feature_names_2 = ['Feature_1', 'Feature_2']\n",
        "\n",
        "# Dataset con 3 características  \n",
        "X_3 = X[:, :3]  # Las primeras 3 características\n",
        "feature_names_3 = ['Feature_1', 'Feature_2', 'Feature_3']\n",
        "\n",
        "# Dividir datos\n",
        "X_train_2, X_test_2, y_train, y_test = train_test_split(X_2, y, test_size=0.3, random_state=42)\n",
        "X_train_3, X_test_3, _, _ = train_test_split(X_3, y, test_size=0.3, random_state=42)\n",
        "\n",
        "print(f\"Dataset 2 características: {X_train_2.shape[0]} entrenamiento, {X_test_2.shape[0]} prueba\")\n",
        "print(f\"Dataset 3 características: {X_train_3.shape[0]} entrenamiento, {X_test_3.shape[0]} prueba\")\n"
      ]
    },
    {
      "cell_type": "code",
      "execution_count": null,
      "metadata": {},
      "outputs": [],
      "source": [
        "# Entrenar árboles\n",
        "# Árbol con 2 características\n",
        "tree_2 = DecisionTreeClassifier(random_state=42)\n",
        "tree_2.fit(X_train_2, y_train)\n",
        "\n",
        "# Árbol con 3 características\n",
        "tree_3 = DecisionTreeClassifier(random_state=42)\n",
        "tree_3.fit(X_train_3, y_train)\n",
        "\n",
        "print(\"✅ Árboles entrenados\")\n",
        "print(f\"Árbol 2 características: {tree_2.get_depth()} niveles, {tree_2.get_n_leaves()} hojas\")\n",
        "print(f\"Árbol 3 características: {tree_3.get_depth()} niveles, {tree_3.get_n_leaves()} hojas\")\n"
      ]
    },
    {
      "cell_type": "code",
      "execution_count": null,
      "metadata": {},
      "outputs": [],
      "source": [
        "# Visualizar ambos árboles lado a lado\n",
        "fig, (ax1, ax2) = plt.subplots(1, 2, figsize=(16, 8))\n",
        "\n",
        "# Árbol con 2 características\n",
        "plot_tree(tree_2, \n",
        "          feature_names=feature_names_2,\n",
        "          class_names=['Clase 0', 'Clase 1'],\n",
        "          filled=True,\n",
        "          ax=ax1)\n",
        "ax1.set_title('Árbol con 2 Características', fontsize=14, fontweight='bold')\n",
        "\n",
        "# Árbol con 3 características\n",
        "plot_tree(tree_3, \n",
        "          feature_names=feature_names_3,\n",
        "          class_names=['Clase 0', 'Clase 1'],\n",
        "          filled=True,\n",
        "          ax=ax2)\n",
        "ax2.set_title('Árbol con 3 Características', fontsize=14, fontweight='bold')\n",
        "\n",
        "plt.tight_layout()\n",
        "plt.show()\n",
        "\n",
        "print(\"🎨 Visualización completada\")\n"
      ]
    },
    {
      "cell_type": "code",
      "execution_count": null,
      "metadata": {},
      "outputs": [],
      "source": [
        "# Comparación simple de rendimiento\n",
        "from sklearn.metrics import accuracy_score\n",
        "\n",
        "# Predecir y calcular accuracy\n",
        "acc_2 = accuracy_score(y_test, tree_2.predict(X_test_2))\n",
        "acc_3 = accuracy_score(y_test, tree_3.predict(X_test_3))\n",
        "\n",
        "print(\"📊 Comparación de rendimiento:\")\n",
        "print(f\"Accuracy con 2 características: {acc_2:.3f}\")\n",
        "print(f\"Accuracy con 3 características: {acc_3:.3f}\")\n",
        "print(f\"Diferencia: {acc_3 - acc_2:.3f}\")\n",
        "\n",
        "print(f\"\\n🌲 Comparación de complejidad:\")\n",
        "print(f\"Profundidad: {tree_2.get_depth()} vs {tree_3.get_depth()}\")\n",
        "print(f\"Hojas: {tree_2.get_n_leaves()} vs {tree_3.get_n_leaves()}\")\n",
        "print(f\"Nodos totales: {tree_2.tree_.node_count} vs {tree_3.tree_.node_count}\")\n"
      ]
    },
    {
      "cell_type": "markdown",
      "metadata": {},
      "source": [
        "## Conclusión Simple\n",
        "\n",
        "### Lo que vemos:\n",
        "\n",
        "1. **Árbol con 2 características**: Más simple, menos nodos, más fácil de entender\n",
        "2. **Árbol con 3 características**: Más complejo, más nodos, puede ser más preciso\n",
        "\n",
        "### Trade-off:\n",
        "- **Más características** = Mayor complejidad pero posiblemente mejor precisión\n",
        "- **Menos características** = Mayor simplicidad pero posiblemente menor precisión\n",
        "\n",
        "### Decisión:\n",
        "- Si necesitas **simplicidad**: usa 2 características\n",
        "- Si necesitas **precisión**: usa 3 características\n",
        "- El balance depende de tu problema específico\n"
      ]
    }
  ],
  "metadata": {
    "language_info": {
      "name": "python"
    }
  },
  "nbformat": 4,
  "nbformat_minor": 2
}
